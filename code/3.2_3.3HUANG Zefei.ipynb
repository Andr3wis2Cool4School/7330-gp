{
 "cells": [
  {
   "cell_type": "code",
   "execution_count": 1,
   "metadata": {},
   "outputs": [],
   "source": [
    "import pandas as pd \n",
    "import numpy as np\n",
    "import matplotlib.pyplot as plt\n",
    "%matplotlib inline\n",
    "import seaborn as sns"
   ]
  },
  {
   "cell_type": "code",
   "execution_count": 3,
   "metadata": {},
   "outputs": [],
   "source": [
    "path = '../data/hotel_bookings.csv' #(1)\n",
    "df = pd.read_csv(path)\n",
    "# df.head()"
   ]
  },
  {
   "cell_type": "code",
   "execution_count": 4,
   "metadata": {},
   "outputs": [],
   "source": [
    "df2 = df.copy()"
   ]
  },
  {
   "cell_type": "code",
   "execution_count": 5,
   "metadata": {},
   "outputs": [
    {
     "data": {
      "text/html": [
       "<div>\n",
       "<style scoped>\n",
       "    .dataframe tbody tr th:only-of-type {\n",
       "        vertical-align: middle;\n",
       "    }\n",
       "\n",
       "    .dataframe tbody tr th {\n",
       "        vertical-align: top;\n",
       "    }\n",
       "\n",
       "    .dataframe thead th {\n",
       "        text-align: right;\n",
       "    }\n",
       "</style>\n",
       "<table border=\"1\" class=\"dataframe\">\n",
       "  <thead>\n",
       "    <tr style=\"text-align: right;\">\n",
       "      <th></th>\n",
       "      <th>hotel</th>\n",
       "      <th>is_canceled</th>\n",
       "      <th>arrival_date_year</th>\n",
       "      <th>arrival_date_month</th>\n",
       "      <th>arrival_date_day_of_month</th>\n",
       "      <th>stays_in_weekend_nights</th>\n",
       "      <th>stays_in_week_nights</th>\n",
       "      <th>adults</th>\n",
       "      <th>children</th>\n",
       "      <th>babies</th>\n",
       "      <th>country</th>\n",
       "      <th>assigned_room_type</th>\n",
       "      <th>adr</th>\n",
       "    </tr>\n",
       "  </thead>\n",
       "  <tbody>\n",
       "    <tr>\n",
       "      <th>0</th>\n",
       "      <td>Resort Hotel</td>\n",
       "      <td>0</td>\n",
       "      <td>2015</td>\n",
       "      <td>July</td>\n",
       "      <td>1</td>\n",
       "      <td>0</td>\n",
       "      <td>0</td>\n",
       "      <td>2</td>\n",
       "      <td>0.0</td>\n",
       "      <td>0</td>\n",
       "      <td>PRT</td>\n",
       "      <td>C</td>\n",
       "      <td>0.0</td>\n",
       "    </tr>\n",
       "    <tr>\n",
       "      <th>1</th>\n",
       "      <td>Resort Hotel</td>\n",
       "      <td>0</td>\n",
       "      <td>2015</td>\n",
       "      <td>July</td>\n",
       "      <td>1</td>\n",
       "      <td>0</td>\n",
       "      <td>0</td>\n",
       "      <td>2</td>\n",
       "      <td>0.0</td>\n",
       "      <td>0</td>\n",
       "      <td>PRT</td>\n",
       "      <td>C</td>\n",
       "      <td>0.0</td>\n",
       "    </tr>\n",
       "    <tr>\n",
       "      <th>2</th>\n",
       "      <td>Resort Hotel</td>\n",
       "      <td>0</td>\n",
       "      <td>2015</td>\n",
       "      <td>July</td>\n",
       "      <td>1</td>\n",
       "      <td>0</td>\n",
       "      <td>1</td>\n",
       "      <td>1</td>\n",
       "      <td>0.0</td>\n",
       "      <td>0</td>\n",
       "      <td>GBR</td>\n",
       "      <td>C</td>\n",
       "      <td>75.0</td>\n",
       "    </tr>\n",
       "    <tr>\n",
       "      <th>3</th>\n",
       "      <td>Resort Hotel</td>\n",
       "      <td>0</td>\n",
       "      <td>2015</td>\n",
       "      <td>July</td>\n",
       "      <td>1</td>\n",
       "      <td>0</td>\n",
       "      <td>1</td>\n",
       "      <td>1</td>\n",
       "      <td>0.0</td>\n",
       "      <td>0</td>\n",
       "      <td>GBR</td>\n",
       "      <td>A</td>\n",
       "      <td>75.0</td>\n",
       "    </tr>\n",
       "    <tr>\n",
       "      <th>4</th>\n",
       "      <td>Resort Hotel</td>\n",
       "      <td>0</td>\n",
       "      <td>2015</td>\n",
       "      <td>July</td>\n",
       "      <td>1</td>\n",
       "      <td>0</td>\n",
       "      <td>2</td>\n",
       "      <td>2</td>\n",
       "      <td>0.0</td>\n",
       "      <td>0</td>\n",
       "      <td>GBR</td>\n",
       "      <td>A</td>\n",
       "      <td>98.0</td>\n",
       "    </tr>\n",
       "  </tbody>\n",
       "</table>\n",
       "</div>"
      ],
      "text/plain": [
       "          hotel  is_canceled  arrival_date_year arrival_date_month  \\\n",
       "0  Resort Hotel            0               2015               July   \n",
       "1  Resort Hotel            0               2015               July   \n",
       "2  Resort Hotel            0               2015               July   \n",
       "3  Resort Hotel            0               2015               July   \n",
       "4  Resort Hotel            0               2015               July   \n",
       "\n",
       "   arrival_date_day_of_month  stays_in_weekend_nights  stays_in_week_nights  \\\n",
       "0                          1                        0                     0   \n",
       "1                          1                        0                     0   \n",
       "2                          1                        0                     1   \n",
       "3                          1                        0                     1   \n",
       "4                          1                        0                     2   \n",
       "\n",
       "   adults  children  babies country assigned_room_type   adr  \n",
       "0       2       0.0       0     PRT                  C   0.0  \n",
       "1       2       0.0       0     PRT                  C   0.0  \n",
       "2       1       0.0       0     GBR                  C  75.0  \n",
       "3       1       0.0       0     GBR                  A  75.0  \n",
       "4       2       0.0       0     GBR                  A  98.0  "
      ]
     },
     "execution_count": 5,
     "metadata": {},
     "output_type": "execute_result"
    }
   ],
   "source": [
    "df2 = df2[['hotel', 'is_canceled', 'arrival_date_year', 'arrival_date_month', \n",
    "         'arrival_date_day_of_month', 'stays_in_weekend_nights', 'stays_in_week_nights', \n",
    "         'adults', 'children', 'babies', 'country', 'assigned_room_type', 'adr']]\n",
    "df2.head()"
   ]
  },
  {
   "cell_type": "markdown",
   "metadata": {},
   "source": [
    "### Clean the data"
   ]
  },
  {
   "cell_type": "code",
   "execution_count": 6,
   "metadata": {},
   "outputs": [],
   "source": [
    "no_pay = list(df2.loc[df2['adr']==0].index)\n",
    "df2.drop(df2.index[no_pay], inplace=True)"
   ]
  },
  {
   "cell_type": "code",
   "execution_count": 7,
   "metadata": {},
   "outputs": [
    {
     "name": "stdout",
     "output_type": "stream",
     "text": [
      "<class 'pandas.core.frame.DataFrame'>\n",
      "Int64Index: 117431 entries, 2 to 119389\n",
      "Data columns (total 13 columns):\n",
      " #   Column                     Non-Null Count   Dtype  \n",
      "---  ------                     --------------   -----  \n",
      " 0   hotel                      117431 non-null  object \n",
      " 1   is_canceled                117431 non-null  int64  \n",
      " 2   arrival_date_year          117431 non-null  int64  \n",
      " 3   arrival_date_month         117431 non-null  object \n",
      " 4   arrival_date_day_of_month  117431 non-null  int64  \n",
      " 5   stays_in_weekend_nights    117431 non-null  int64  \n",
      " 6   stays_in_week_nights       117431 non-null  int64  \n",
      " 7   adults                     117431 non-null  int64  \n",
      " 8   children                   117427 non-null  float64\n",
      " 9   babies                     117431 non-null  int64  \n",
      " 10  country                    116964 non-null  object \n",
      " 11  assigned_room_type         117431 non-null  object \n",
      " 12  adr                        117431 non-null  float64\n",
      "dtypes: float64(2), int64(7), object(4)\n",
      "memory usage: 12.5+ MB\n"
     ]
    }
   ],
   "source": [
    "df2.info()"
   ]
  },
  {
   "cell_type": "code",
   "execution_count": 8,
   "metadata": {},
   "outputs": [
    {
     "data": {
      "text/plain": [
       "August       13711\n",
       "July         12491\n",
       "May          11611\n",
       "April        10953\n",
       "October      10929\n",
       "June         10819\n",
       "September    10351\n",
       "March         9642\n",
       "February      7921\n",
       "November      6641\n",
       "December      6561\n",
       "January       5801\n",
       "Name: arrival_date_month, dtype: int64"
      ]
     },
     "execution_count": 8,
     "metadata": {},
     "output_type": "execute_result"
    }
   ],
   "source": [
    "df2.loc[:, 'arrival_date_month'].value_counts()"
   ]
  },
  {
   "cell_type": "code",
   "execution_count": 9,
   "metadata": {},
   "outputs": [],
   "source": [
    "month = df2[['arrival_date_month', 'assigned_room_type']]"
   ]
  },
  {
   "cell_type": "code",
   "execution_count": 10,
   "metadata": {},
   "outputs": [],
   "source": [
    "data = df2.copy()"
   ]
  },
  {
   "cell_type": "code",
   "execution_count": 11,
   "metadata": {},
   "outputs": [],
   "source": [
    "# convert month to number \n",
    "data.loc[data['arrival_date_month']=='January', 'arrival_date_month'] = '01'\n",
    "data.loc[data['arrival_date_month']=='February', 'arrival_date_month'] = '02'\n",
    "data.loc[data['arrival_date_month']=='March', 'arrival_date_month'] = '03'\n",
    "data.loc[data['arrival_date_month']=='April', 'arrival_date_month'] = '04'\n",
    "data.loc[data['arrival_date_month']=='May', 'arrival_date_month'] = '05'\n",
    "data.loc[data['arrival_date_month']=='June', 'arrival_date_month'] = '06'\n",
    "data.loc[data['arrival_date_month']=='July', 'arrival_date_month'] = '07'\n",
    "data.loc[data['arrival_date_month']=='August', 'arrival_date_month'] = '08'\n",
    "data.loc[data['arrival_date_month']=='September', 'arrival_date_month'] = '09'\n",
    "data.loc[data['arrival_date_month']=='October', 'arrival_date_month'] = '10'\n",
    "data.loc[data['arrival_date_month']=='November', 'arrival_date_month'] = '11'\n",
    "data.loc[data['arrival_date_month']=='December', 'arrival_date_month'] = '12'"
   ]
  },
  {
   "cell_type": "code",
   "execution_count": 12,
   "metadata": {},
   "outputs": [],
   "source": [
    "# convert day format\n",
    "data.loc[data['arrival_date_day_of_month']== 1, 'arrival_date_day_of_month'] = '01'\n",
    "data.loc[data['arrival_date_day_of_month']== 2, 'arrival_date_day_of_month'] = '02'\n",
    "data.loc[data['arrival_date_day_of_month']== 3, 'arrival_date_day_of_month'] = '03'\n",
    "data.loc[data['arrival_date_day_of_month']== 4, 'arrival_date_day_of_month'] = '04'\n",
    "data.loc[data['arrival_date_day_of_month']== 5, 'arrival_date_day_of_month'] = '06'\n",
    "data.loc[data['arrival_date_day_of_month']== 7, 'arrival_date_day_of_month'] = '07'\n",
    "data.loc[data['arrival_date_day_of_month']== 8, 'arrival_date_day_of_month'] = '08'\n",
    "data.loc[data['arrival_date_day_of_month']== 9, 'arrival_date_day_of_month'] = '09'"
   ]
  },
  {
   "cell_type": "code",
   "execution_count": 13,
   "metadata": {},
   "outputs": [],
   "source": [
    "data.insert(data.shape[1], 'd', '/')"
   ]
  },
  {
   "cell_type": "code",
   "execution_count": 14,
   "metadata": {},
   "outputs": [],
   "source": [
    "data['arrival_date'] = data['arrival_date_day_of_month'].map(str) + data['d'] + data['arrival_date_month'].map(str) + data['d'] + data['arrival_date_year'].map(str)\n",
    "#data.head()"
   ]
  },
  {
   "cell_type": "code",
   "execution_count": 15,
   "metadata": {},
   "outputs": [],
   "source": [
    "data['total_stay_days'] = data['stays_in_weekend_nights'] + data['stays_in_week_nights']\n",
    "#data.head()"
   ]
  },
  {
   "cell_type": "code",
   "execution_count": 16,
   "metadata": {},
   "outputs": [],
   "source": [
    "data['total_guests'] = data['adults'] + data['children'] + data['babies']"
   ]
  },
  {
   "cell_type": "code",
   "execution_count": 17,
   "metadata": {},
   "outputs": [],
   "source": [
    "data.drop(['arrival_date_year', 'arrival_date_month', 'arrival_date_day_of_month', 'd'], axis=1, inplace=True)\n",
    "#data.head()"
   ]
  },
  {
   "cell_type": "code",
   "execution_count": 18,
   "metadata": {},
   "outputs": [],
   "source": [
    "data['arrival_month'] = month['arrival_date_month']\n",
    "#data.head()"
   ]
  },
  {
   "cell_type": "code",
   "execution_count": 19,
   "metadata": {},
   "outputs": [
    {
     "data": {
      "text/plain": [
       "2   2015-01-07\n",
       "3   2015-01-07\n",
       "4   2015-01-07\n",
       "5   2015-01-07\n",
       "6   2015-01-07\n",
       "Name: arrival_date, dtype: datetime64[ns]"
      ]
     },
     "execution_count": 19,
     "metadata": {},
     "output_type": "execute_result"
    }
   ],
   "source": [
    "data['arrival_date'] = pd.to_datetime(data['arrival_date'], infer_datetime_format=True)\n",
    "data['arrival_date'].head()"
   ]
  },
  {
   "cell_type": "code",
   "execution_count": 20,
   "metadata": {},
   "outputs": [
    {
     "data": {
      "text/html": [
       "<div>\n",
       "<style scoped>\n",
       "    .dataframe tbody tr th:only-of-type {\n",
       "        vertical-align: middle;\n",
       "    }\n",
       "\n",
       "    .dataframe tbody tr th {\n",
       "        vertical-align: top;\n",
       "    }\n",
       "\n",
       "    .dataframe thead th {\n",
       "        text-align: right;\n",
       "    }\n",
       "</style>\n",
       "<table border=\"1\" class=\"dataframe\">\n",
       "  <thead>\n",
       "    <tr style=\"text-align: right;\">\n",
       "      <th></th>\n",
       "      <th>hotel</th>\n",
       "      <th>is_canceled</th>\n",
       "      <th>stays_in_weekend_nights</th>\n",
       "      <th>stays_in_week_nights</th>\n",
       "      <th>adults</th>\n",
       "      <th>children</th>\n",
       "      <th>babies</th>\n",
       "      <th>country</th>\n",
       "      <th>assigned_room_type</th>\n",
       "      <th>adr</th>\n",
       "      <th>arrival_date</th>\n",
       "      <th>total_stay_days</th>\n",
       "      <th>total_guests</th>\n",
       "      <th>arrival_month</th>\n",
       "    </tr>\n",
       "  </thead>\n",
       "  <tbody>\n",
       "    <tr>\n",
       "      <th>2</th>\n",
       "      <td>Resort Hotel</td>\n",
       "      <td>0</td>\n",
       "      <td>0</td>\n",
       "      <td>1</td>\n",
       "      <td>1</td>\n",
       "      <td>0.0</td>\n",
       "      <td>0</td>\n",
       "      <td>GBR</td>\n",
       "      <td>C</td>\n",
       "      <td>75.0</td>\n",
       "      <td>2015-01-07</td>\n",
       "      <td>1</td>\n",
       "      <td>1.0</td>\n",
       "      <td>July</td>\n",
       "    </tr>\n",
       "    <tr>\n",
       "      <th>3</th>\n",
       "      <td>Resort Hotel</td>\n",
       "      <td>0</td>\n",
       "      <td>0</td>\n",
       "      <td>1</td>\n",
       "      <td>1</td>\n",
       "      <td>0.0</td>\n",
       "      <td>0</td>\n",
       "      <td>GBR</td>\n",
       "      <td>A</td>\n",
       "      <td>75.0</td>\n",
       "      <td>2015-01-07</td>\n",
       "      <td>1</td>\n",
       "      <td>1.0</td>\n",
       "      <td>July</td>\n",
       "    </tr>\n",
       "    <tr>\n",
       "      <th>4</th>\n",
       "      <td>Resort Hotel</td>\n",
       "      <td>0</td>\n",
       "      <td>0</td>\n",
       "      <td>2</td>\n",
       "      <td>2</td>\n",
       "      <td>0.0</td>\n",
       "      <td>0</td>\n",
       "      <td>GBR</td>\n",
       "      <td>A</td>\n",
       "      <td>98.0</td>\n",
       "      <td>2015-01-07</td>\n",
       "      <td>2</td>\n",
       "      <td>2.0</td>\n",
       "      <td>July</td>\n",
       "    </tr>\n",
       "    <tr>\n",
       "      <th>5</th>\n",
       "      <td>Resort Hotel</td>\n",
       "      <td>0</td>\n",
       "      <td>0</td>\n",
       "      <td>2</td>\n",
       "      <td>2</td>\n",
       "      <td>0.0</td>\n",
       "      <td>0</td>\n",
       "      <td>GBR</td>\n",
       "      <td>A</td>\n",
       "      <td>98.0</td>\n",
       "      <td>2015-01-07</td>\n",
       "      <td>2</td>\n",
       "      <td>2.0</td>\n",
       "      <td>July</td>\n",
       "    </tr>\n",
       "    <tr>\n",
       "      <th>6</th>\n",
       "      <td>Resort Hotel</td>\n",
       "      <td>0</td>\n",
       "      <td>0</td>\n",
       "      <td>2</td>\n",
       "      <td>2</td>\n",
       "      <td>0.0</td>\n",
       "      <td>0</td>\n",
       "      <td>PRT</td>\n",
       "      <td>C</td>\n",
       "      <td>107.0</td>\n",
       "      <td>2015-01-07</td>\n",
       "      <td>2</td>\n",
       "      <td>2.0</td>\n",
       "      <td>July</td>\n",
       "    </tr>\n",
       "  </tbody>\n",
       "</table>\n",
       "</div>"
      ],
      "text/plain": [
       "          hotel  is_canceled  stays_in_weekend_nights  stays_in_week_nights  \\\n",
       "2  Resort Hotel            0                        0                     1   \n",
       "3  Resort Hotel            0                        0                     1   \n",
       "4  Resort Hotel            0                        0                     2   \n",
       "5  Resort Hotel            0                        0                     2   \n",
       "6  Resort Hotel            0                        0                     2   \n",
       "\n",
       "   adults  children  babies country assigned_room_type    adr arrival_date  \\\n",
       "2       1       0.0       0     GBR                  C   75.0   2015-01-07   \n",
       "3       1       0.0       0     GBR                  A   75.0   2015-01-07   \n",
       "4       2       0.0       0     GBR                  A   98.0   2015-01-07   \n",
       "5       2       0.0       0     GBR                  A   98.0   2015-01-07   \n",
       "6       2       0.0       0     PRT                  C  107.0   2015-01-07   \n",
       "\n",
       "   total_stay_days  total_guests arrival_month  \n",
       "2                1           1.0          July  \n",
       "3                1           1.0          July  \n",
       "4                2           2.0          July  \n",
       "5                2           2.0          July  \n",
       "6                2           2.0          July  "
      ]
     },
     "execution_count": 20,
     "metadata": {},
     "output_type": "execute_result"
    }
   ],
   "source": [
    "data.head()"
   ]
  },
  {
   "cell_type": "code",
   "execution_count": 21,
   "metadata": {},
   "outputs": [
    {
     "data": {
      "text/plain": [
       "0    73420\n",
       "1    44011\n",
       "Name: is_canceled, dtype: int64"
      ]
     },
     "execution_count": 21,
     "metadata": {},
     "output_type": "execute_result"
    }
   ],
   "source": [
    "data1 = data.copy()\n",
    "data1.loc[:, 'is_canceled'].value_counts()"
   ]
  },
  {
   "cell_type": "code",
   "execution_count": 22,
   "metadata": {},
   "outputs": [
    {
     "data": {
      "text/html": [
       "<div>\n",
       "<style scoped>\n",
       "    .dataframe tbody tr th:only-of-type {\n",
       "        vertical-align: middle;\n",
       "    }\n",
       "\n",
       "    .dataframe tbody tr th {\n",
       "        vertical-align: top;\n",
       "    }\n",
       "\n",
       "    .dataframe thead th {\n",
       "        text-align: right;\n",
       "    }\n",
       "</style>\n",
       "<table border=\"1\" class=\"dataframe\">\n",
       "  <thead>\n",
       "    <tr style=\"text-align: right;\">\n",
       "      <th></th>\n",
       "      <th>hotel</th>\n",
       "      <th>stays_in_weekend_nights</th>\n",
       "      <th>stays_in_week_nights</th>\n",
       "      <th>adults</th>\n",
       "      <th>children</th>\n",
       "      <th>babies</th>\n",
       "      <th>country</th>\n",
       "      <th>assigned_room_type</th>\n",
       "      <th>adr</th>\n",
       "      <th>arrival_date</th>\n",
       "      <th>total_stay_days</th>\n",
       "      <th>total_guests</th>\n",
       "      <th>arrival_month</th>\n",
       "    </tr>\n",
       "  </thead>\n",
       "  <tbody>\n",
       "    <tr>\n",
       "      <th>2</th>\n",
       "      <td>Resort Hotel</td>\n",
       "      <td>0</td>\n",
       "      <td>1</td>\n",
       "      <td>1</td>\n",
       "      <td>0.0</td>\n",
       "      <td>0</td>\n",
       "      <td>GBR</td>\n",
       "      <td>C</td>\n",
       "      <td>75.0</td>\n",
       "      <td>2015-01-07</td>\n",
       "      <td>1</td>\n",
       "      <td>1.0</td>\n",
       "      <td>July</td>\n",
       "    </tr>\n",
       "    <tr>\n",
       "      <th>3</th>\n",
       "      <td>Resort Hotel</td>\n",
       "      <td>0</td>\n",
       "      <td>1</td>\n",
       "      <td>1</td>\n",
       "      <td>0.0</td>\n",
       "      <td>0</td>\n",
       "      <td>GBR</td>\n",
       "      <td>A</td>\n",
       "      <td>75.0</td>\n",
       "      <td>2015-01-07</td>\n",
       "      <td>1</td>\n",
       "      <td>1.0</td>\n",
       "      <td>July</td>\n",
       "    </tr>\n",
       "    <tr>\n",
       "      <th>4</th>\n",
       "      <td>Resort Hotel</td>\n",
       "      <td>0</td>\n",
       "      <td>2</td>\n",
       "      <td>2</td>\n",
       "      <td>0.0</td>\n",
       "      <td>0</td>\n",
       "      <td>GBR</td>\n",
       "      <td>A</td>\n",
       "      <td>98.0</td>\n",
       "      <td>2015-01-07</td>\n",
       "      <td>2</td>\n",
       "      <td>2.0</td>\n",
       "      <td>July</td>\n",
       "    </tr>\n",
       "    <tr>\n",
       "      <th>5</th>\n",
       "      <td>Resort Hotel</td>\n",
       "      <td>0</td>\n",
       "      <td>2</td>\n",
       "      <td>2</td>\n",
       "      <td>0.0</td>\n",
       "      <td>0</td>\n",
       "      <td>GBR</td>\n",
       "      <td>A</td>\n",
       "      <td>98.0</td>\n",
       "      <td>2015-01-07</td>\n",
       "      <td>2</td>\n",
       "      <td>2.0</td>\n",
       "      <td>July</td>\n",
       "    </tr>\n",
       "    <tr>\n",
       "      <th>6</th>\n",
       "      <td>Resort Hotel</td>\n",
       "      <td>0</td>\n",
       "      <td>2</td>\n",
       "      <td>2</td>\n",
       "      <td>0.0</td>\n",
       "      <td>0</td>\n",
       "      <td>PRT</td>\n",
       "      <td>C</td>\n",
       "      <td>107.0</td>\n",
       "      <td>2015-01-07</td>\n",
       "      <td>2</td>\n",
       "      <td>2.0</td>\n",
       "      <td>July</td>\n",
       "    </tr>\n",
       "  </tbody>\n",
       "</table>\n",
       "</div>"
      ],
      "text/plain": [
       "          hotel  stays_in_weekend_nights  stays_in_week_nights  adults  \\\n",
       "2  Resort Hotel                        0                     1       1   \n",
       "3  Resort Hotel                        0                     1       1   \n",
       "4  Resort Hotel                        0                     2       2   \n",
       "5  Resort Hotel                        0                     2       2   \n",
       "6  Resort Hotel                        0                     2       2   \n",
       "\n",
       "   children  babies country assigned_room_type    adr arrival_date  \\\n",
       "2       0.0       0     GBR                  C   75.0   2015-01-07   \n",
       "3       0.0       0     GBR                  A   75.0   2015-01-07   \n",
       "4       0.0       0     GBR                  A   98.0   2015-01-07   \n",
       "5       0.0       0     GBR                  A   98.0   2015-01-07   \n",
       "6       0.0       0     PRT                  C  107.0   2015-01-07   \n",
       "\n",
       "   total_stay_days  total_guests arrival_month  \n",
       "2                1           1.0          July  \n",
       "3                1           1.0          July  \n",
       "4                2           2.0          July  \n",
       "5                2           2.0          July  \n",
       "6                2           2.0          July  "
      ]
     },
     "execution_count": 22,
     "metadata": {},
     "output_type": "execute_result"
    }
   ],
   "source": [
    "# 取消预定的不算\n",
    "data1 = data1.loc[data['is_canceled']==0]\n",
    "clean_data = data1.copy()\n",
    "clean_data.drop('is_canceled', axis=1, inplace=True)\n",
    "clean_data.head()"
   ]
  },
  {
   "cell_type": "code",
   "execution_count": 23,
   "metadata": {},
   "outputs": [
    {
     "data": {
      "text/html": [
       "<div>\n",
       "<style scoped>\n",
       "    .dataframe tbody tr th:only-of-type {\n",
       "        vertical-align: middle;\n",
       "    }\n",
       "\n",
       "    .dataframe tbody tr th {\n",
       "        vertical-align: top;\n",
       "    }\n",
       "\n",
       "    .dataframe thead th {\n",
       "        text-align: right;\n",
       "    }\n",
       "</style>\n",
       "<table border=\"1\" class=\"dataframe\">\n",
       "  <thead>\n",
       "    <tr style=\"text-align: right;\">\n",
       "      <th></th>\n",
       "      <th>hotel</th>\n",
       "      <th>stays_in_weekend_nights</th>\n",
       "      <th>stays_in_week_nights</th>\n",
       "      <th>adults</th>\n",
       "      <th>children</th>\n",
       "      <th>babies</th>\n",
       "      <th>country</th>\n",
       "      <th>assigned_room_type</th>\n",
       "      <th>adr</th>\n",
       "      <th>arrival_date</th>\n",
       "      <th>total_stay_days</th>\n",
       "      <th>total_guests</th>\n",
       "      <th>arrival_month</th>\n",
       "    </tr>\n",
       "  </thead>\n",
       "  <tbody>\n",
       "    <tr>\n",
       "      <th>2</th>\n",
       "      <td>Resort Hotel</td>\n",
       "      <td>0</td>\n",
       "      <td>1</td>\n",
       "      <td>1</td>\n",
       "      <td>0.0</td>\n",
       "      <td>0</td>\n",
       "      <td>GBR</td>\n",
       "      <td>C</td>\n",
       "      <td>75.0</td>\n",
       "      <td>2015-01-07</td>\n",
       "      <td>1</td>\n",
       "      <td>1.0</td>\n",
       "      <td>July</td>\n",
       "    </tr>\n",
       "    <tr>\n",
       "      <th>3</th>\n",
       "      <td>Resort Hotel</td>\n",
       "      <td>0</td>\n",
       "      <td>1</td>\n",
       "      <td>1</td>\n",
       "      <td>0.0</td>\n",
       "      <td>0</td>\n",
       "      <td>GBR</td>\n",
       "      <td>A</td>\n",
       "      <td>75.0</td>\n",
       "      <td>2015-01-07</td>\n",
       "      <td>1</td>\n",
       "      <td>1.0</td>\n",
       "      <td>July</td>\n",
       "    </tr>\n",
       "    <tr>\n",
       "      <th>4</th>\n",
       "      <td>Resort Hotel</td>\n",
       "      <td>0</td>\n",
       "      <td>2</td>\n",
       "      <td>2</td>\n",
       "      <td>0.0</td>\n",
       "      <td>0</td>\n",
       "      <td>GBR</td>\n",
       "      <td>A</td>\n",
       "      <td>98.0</td>\n",
       "      <td>2015-01-07</td>\n",
       "      <td>2</td>\n",
       "      <td>2.0</td>\n",
       "      <td>July</td>\n",
       "    </tr>\n",
       "    <tr>\n",
       "      <th>5</th>\n",
       "      <td>Resort Hotel</td>\n",
       "      <td>0</td>\n",
       "      <td>2</td>\n",
       "      <td>2</td>\n",
       "      <td>0.0</td>\n",
       "      <td>0</td>\n",
       "      <td>GBR</td>\n",
       "      <td>A</td>\n",
       "      <td>98.0</td>\n",
       "      <td>2015-01-07</td>\n",
       "      <td>2</td>\n",
       "      <td>2.0</td>\n",
       "      <td>July</td>\n",
       "    </tr>\n",
       "    <tr>\n",
       "      <th>6</th>\n",
       "      <td>Resort Hotel</td>\n",
       "      <td>0</td>\n",
       "      <td>2</td>\n",
       "      <td>2</td>\n",
       "      <td>0.0</td>\n",
       "      <td>0</td>\n",
       "      <td>PRT</td>\n",
       "      <td>C</td>\n",
       "      <td>107.0</td>\n",
       "      <td>2015-01-07</td>\n",
       "      <td>2</td>\n",
       "      <td>2.0</td>\n",
       "      <td>July</td>\n",
       "    </tr>\n",
       "  </tbody>\n",
       "</table>\n",
       "</div>"
      ],
      "text/plain": [
       "          hotel  stays_in_weekend_nights  stays_in_week_nights  adults  \\\n",
       "2  Resort Hotel                        0                     1       1   \n",
       "3  Resort Hotel                        0                     1       1   \n",
       "4  Resort Hotel                        0                     2       2   \n",
       "5  Resort Hotel                        0                     2       2   \n",
       "6  Resort Hotel                        0                     2       2   \n",
       "\n",
       "   children  babies country assigned_room_type    adr arrival_date  \\\n",
       "2       0.0       0     GBR                  C   75.0   2015-01-07   \n",
       "3       0.0       0     GBR                  A   75.0   2015-01-07   \n",
       "4       0.0       0     GBR                  A   98.0   2015-01-07   \n",
       "5       0.0       0     GBR                  A   98.0   2015-01-07   \n",
       "6       0.0       0     PRT                  C  107.0   2015-01-07   \n",
       "\n",
       "   total_stay_days  total_guests arrival_month  \n",
       "2                1           1.0          July  \n",
       "3                1           1.0          July  \n",
       "4                2           2.0          July  \n",
       "5                2           2.0          July  \n",
       "6                2           2.0          July  "
      ]
     },
     "execution_count": 23,
     "metadata": {},
     "output_type": "execute_result"
    }
   ],
   "source": [
    "# Resort Hotel\n",
    "rh = clean_data.loc[clean_data['hotel']=='Resort Hotel']\n",
    "rh.head()"
   ]
  },
  {
   "cell_type": "code",
   "execution_count": 24,
   "metadata": {},
   "outputs": [
    {
     "data": {
      "text/html": [
       "<div>\n",
       "<style scoped>\n",
       "    .dataframe tbody tr th:only-of-type {\n",
       "        vertical-align: middle;\n",
       "    }\n",
       "\n",
       "    .dataframe tbody tr th {\n",
       "        vertical-align: top;\n",
       "    }\n",
       "\n",
       "    .dataframe thead th {\n",
       "        text-align: right;\n",
       "    }\n",
       "</style>\n",
       "<table border=\"1\" class=\"dataframe\">\n",
       "  <thead>\n",
       "    <tr style=\"text-align: right;\">\n",
       "      <th></th>\n",
       "      <th>hotel</th>\n",
       "      <th>stays_in_weekend_nights</th>\n",
       "      <th>stays_in_week_nights</th>\n",
       "      <th>adults</th>\n",
       "      <th>children</th>\n",
       "      <th>babies</th>\n",
       "      <th>country</th>\n",
       "      <th>assigned_room_type</th>\n",
       "      <th>adr</th>\n",
       "      <th>arrival_date</th>\n",
       "      <th>total_stay_days</th>\n",
       "      <th>total_guests</th>\n",
       "      <th>arrival_month</th>\n",
       "    </tr>\n",
       "  </thead>\n",
       "  <tbody>\n",
       "    <tr>\n",
       "      <th>40066</th>\n",
       "      <td>City Hotel</td>\n",
       "      <td>0</td>\n",
       "      <td>3</td>\n",
       "      <td>1</td>\n",
       "      <td>0.0</td>\n",
       "      <td>0</td>\n",
       "      <td>PRT</td>\n",
       "      <td>A</td>\n",
       "      <td>58.67</td>\n",
       "      <td>2015-02-07</td>\n",
       "      <td>3</td>\n",
       "      <td>1.0</td>\n",
       "      <td>July</td>\n",
       "    </tr>\n",
       "    <tr>\n",
       "      <th>40070</th>\n",
       "      <td>City Hotel</td>\n",
       "      <td>0</td>\n",
       "      <td>2</td>\n",
       "      <td>2</td>\n",
       "      <td>0.0</td>\n",
       "      <td>0</td>\n",
       "      <td>PRT</td>\n",
       "      <td>A</td>\n",
       "      <td>86.00</td>\n",
       "      <td>2015-03-07</td>\n",
       "      <td>2</td>\n",
       "      <td>2.0</td>\n",
       "      <td>July</td>\n",
       "    </tr>\n",
       "    <tr>\n",
       "      <th>40071</th>\n",
       "      <td>City Hotel</td>\n",
       "      <td>0</td>\n",
       "      <td>2</td>\n",
       "      <td>2</td>\n",
       "      <td>0.0</td>\n",
       "      <td>0</td>\n",
       "      <td>PRT</td>\n",
       "      <td>A</td>\n",
       "      <td>43.00</td>\n",
       "      <td>2015-03-07</td>\n",
       "      <td>2</td>\n",
       "      <td>2.0</td>\n",
       "      <td>July</td>\n",
       "    </tr>\n",
       "    <tr>\n",
       "      <th>40072</th>\n",
       "      <td>City Hotel</td>\n",
       "      <td>0</td>\n",
       "      <td>2</td>\n",
       "      <td>2</td>\n",
       "      <td>0.0</td>\n",
       "      <td>0</td>\n",
       "      <td>PRT</td>\n",
       "      <td>A</td>\n",
       "      <td>86.00</td>\n",
       "      <td>2015-03-07</td>\n",
       "      <td>2</td>\n",
       "      <td>2.0</td>\n",
       "      <td>July</td>\n",
       "    </tr>\n",
       "    <tr>\n",
       "      <th>40073</th>\n",
       "      <td>City Hotel</td>\n",
       "      <td>0</td>\n",
       "      <td>2</td>\n",
       "      <td>1</td>\n",
       "      <td>0.0</td>\n",
       "      <td>0</td>\n",
       "      <td>PRT</td>\n",
       "      <td>A</td>\n",
       "      <td>63.00</td>\n",
       "      <td>2015-03-07</td>\n",
       "      <td>2</td>\n",
       "      <td>1.0</td>\n",
       "      <td>July</td>\n",
       "    </tr>\n",
       "  </tbody>\n",
       "</table>\n",
       "</div>"
      ],
      "text/plain": [
       "            hotel  stays_in_weekend_nights  stays_in_week_nights  adults  \\\n",
       "40066  City Hotel                        0                     3       1   \n",
       "40070  City Hotel                        0                     2       2   \n",
       "40071  City Hotel                        0                     2       2   \n",
       "40072  City Hotel                        0                     2       2   \n",
       "40073  City Hotel                        0                     2       1   \n",
       "\n",
       "       children  babies country assigned_room_type    adr arrival_date  \\\n",
       "40066       0.0       0     PRT                  A  58.67   2015-02-07   \n",
       "40070       0.0       0     PRT                  A  86.00   2015-03-07   \n",
       "40071       0.0       0     PRT                  A  43.00   2015-03-07   \n",
       "40072       0.0       0     PRT                  A  86.00   2015-03-07   \n",
       "40073       0.0       0     PRT                  A  63.00   2015-03-07   \n",
       "\n",
       "       total_stay_days  total_guests arrival_month  \n",
       "40066                3           1.0          July  \n",
       "40070                2           2.0          July  \n",
       "40071                2           2.0          July  \n",
       "40072                2           2.0          July  \n",
       "40073                2           1.0          July  "
      ]
     },
     "execution_count": 24,
     "metadata": {},
     "output_type": "execute_result"
    }
   ],
   "source": [
    "# City Hotel\n",
    "ch = clean_data.loc[clean_data['hotel']=='City Hotel']\n",
    "ch.head()"
   ]
  },
  {
   "cell_type": "markdown",
   "metadata": {},
   "source": [
    "## 3.2 How much does a guest pay for a room per night?"
   ]
  },
  {
   "cell_type": "code",
   "execution_count": 25,
   "metadata": {},
   "outputs": [
    {
     "data": {
      "text/html": [
       "<div>\n",
       "<style scoped>\n",
       "    .dataframe tbody tr th:only-of-type {\n",
       "        vertical-align: middle;\n",
       "    }\n",
       "\n",
       "    .dataframe tbody tr th {\n",
       "        vertical-align: top;\n",
       "    }\n",
       "\n",
       "    .dataframe thead th {\n",
       "        text-align: right;\n",
       "    }\n",
       "</style>\n",
       "<table border=\"1\" class=\"dataframe\">\n",
       "  <thead>\n",
       "    <tr style=\"text-align: right;\">\n",
       "      <th></th>\n",
       "      <th>hotel</th>\n",
       "      <th>stays_in_weekend_nights</th>\n",
       "      <th>stays_in_week_nights</th>\n",
       "      <th>adults</th>\n",
       "      <th>children</th>\n",
       "      <th>babies</th>\n",
       "      <th>country</th>\n",
       "      <th>assigned_room_type</th>\n",
       "      <th>adr</th>\n",
       "      <th>arrival_date</th>\n",
       "      <th>total_stay_days</th>\n",
       "      <th>total_guests</th>\n",
       "      <th>arrival_month</th>\n",
       "    </tr>\n",
       "  </thead>\n",
       "  <tbody>\n",
       "    <tr>\n",
       "      <th>2</th>\n",
       "      <td>Resort Hotel</td>\n",
       "      <td>0</td>\n",
       "      <td>1</td>\n",
       "      <td>1</td>\n",
       "      <td>0.0</td>\n",
       "      <td>0</td>\n",
       "      <td>GBR</td>\n",
       "      <td>C</td>\n",
       "      <td>75.0</td>\n",
       "      <td>2015-01-07</td>\n",
       "      <td>1</td>\n",
       "      <td>1.0</td>\n",
       "      <td>July</td>\n",
       "    </tr>\n",
       "    <tr>\n",
       "      <th>3</th>\n",
       "      <td>Resort Hotel</td>\n",
       "      <td>0</td>\n",
       "      <td>1</td>\n",
       "      <td>1</td>\n",
       "      <td>0.0</td>\n",
       "      <td>0</td>\n",
       "      <td>GBR</td>\n",
       "      <td>A</td>\n",
       "      <td>75.0</td>\n",
       "      <td>2015-01-07</td>\n",
       "      <td>1</td>\n",
       "      <td>1.0</td>\n",
       "      <td>July</td>\n",
       "    </tr>\n",
       "    <tr>\n",
       "      <th>4</th>\n",
       "      <td>Resort Hotel</td>\n",
       "      <td>0</td>\n",
       "      <td>2</td>\n",
       "      <td>2</td>\n",
       "      <td>0.0</td>\n",
       "      <td>0</td>\n",
       "      <td>GBR</td>\n",
       "      <td>A</td>\n",
       "      <td>98.0</td>\n",
       "      <td>2015-01-07</td>\n",
       "      <td>2</td>\n",
       "      <td>2.0</td>\n",
       "      <td>July</td>\n",
       "    </tr>\n",
       "    <tr>\n",
       "      <th>5</th>\n",
       "      <td>Resort Hotel</td>\n",
       "      <td>0</td>\n",
       "      <td>2</td>\n",
       "      <td>2</td>\n",
       "      <td>0.0</td>\n",
       "      <td>0</td>\n",
       "      <td>GBR</td>\n",
       "      <td>A</td>\n",
       "      <td>98.0</td>\n",
       "      <td>2015-01-07</td>\n",
       "      <td>2</td>\n",
       "      <td>2.0</td>\n",
       "      <td>July</td>\n",
       "    </tr>\n",
       "    <tr>\n",
       "      <th>6</th>\n",
       "      <td>Resort Hotel</td>\n",
       "      <td>0</td>\n",
       "      <td>2</td>\n",
       "      <td>2</td>\n",
       "      <td>0.0</td>\n",
       "      <td>0</td>\n",
       "      <td>PRT</td>\n",
       "      <td>C</td>\n",
       "      <td>107.0</td>\n",
       "      <td>2015-01-07</td>\n",
       "      <td>2</td>\n",
       "      <td>2.0</td>\n",
       "      <td>July</td>\n",
       "    </tr>\n",
       "  </tbody>\n",
       "</table>\n",
       "</div>"
      ],
      "text/plain": [
       "          hotel  stays_in_weekend_nights  stays_in_week_nights  adults  \\\n",
       "2  Resort Hotel                        0                     1       1   \n",
       "3  Resort Hotel                        0                     1       1   \n",
       "4  Resort Hotel                        0                     2       2   \n",
       "5  Resort Hotel                        0                     2       2   \n",
       "6  Resort Hotel                        0                     2       2   \n",
       "\n",
       "   children  babies country assigned_room_type    adr arrival_date  \\\n",
       "2       0.0       0     GBR                  C   75.0   2015-01-07   \n",
       "3       0.0       0     GBR                  A   75.0   2015-01-07   \n",
       "4       0.0       0     GBR                  A   98.0   2015-01-07   \n",
       "5       0.0       0     GBR                  A   98.0   2015-01-07   \n",
       "6       0.0       0     PRT                  C  107.0   2015-01-07   \n",
       "\n",
       "   total_stay_days  total_guests arrival_month  \n",
       "2                1           1.0          July  \n",
       "3                1           1.0          July  \n",
       "4                2           2.0          July  \n",
       "5                2           2.0          July  \n",
       "6                2           2.0          July  "
      ]
     },
     "execution_count": 25,
     "metadata": {},
     "output_type": "execute_result"
    }
   ],
   "source": [
    "clean_data.head()"
   ]
  },
  {
   "cell_type": "code",
   "execution_count": 26,
   "metadata": {},
   "outputs": [],
   "source": [
    "df2 = clean_data"
   ]
  },
  {
   "cell_type": "code",
   "execution_count": 27,
   "metadata": {},
   "outputs": [
    {
     "data": {
      "text/plain": [
       "count    73420.000000\n",
       "mean       102.365499\n",
       "std         47.280317\n",
       "min         -6.380000\n",
       "25%         70.000000\n",
       "50%         94.500000\n",
       "75%        126.000000\n",
       "max        510.000000\n",
       "Name: adr, dtype: float64"
      ]
     },
     "execution_count": 27,
     "metadata": {},
     "output_type": "execute_result"
    }
   ],
   "source": [
    "df2['adr'].describe()"
   ]
  },
  {
   "cell_type": "code",
   "execution_count": 28,
   "metadata": {},
   "outputs": [
    {
     "data": {
      "text/plain": [
       "count    73420.000000\n",
       "mean         3.435971\n",
       "std          2.542487\n",
       "min          1.000000\n",
       "25%          2.000000\n",
       "50%          3.000000\n",
       "75%          4.000000\n",
       "max         69.000000\n",
       "Name: total_stay_days, dtype: float64"
      ]
     },
     "execution_count": 28,
     "metadata": {},
     "output_type": "execute_result"
    }
   ],
   "source": [
    "df2['total_stay_days'].describe()"
   ]
  },
  {
   "cell_type": "code",
   "execution_count": 29,
   "metadata": {},
   "outputs": [
    {
     "data": {
      "text/plain": [
       "count    73420.000000\n",
       "mean         1.952819\n",
       "std          0.663348\n",
       "min          0.000000\n",
       "25%          2.000000\n",
       "50%          2.000000\n",
       "75%          2.000000\n",
       "max         12.000000\n",
       "Name: total_guests, dtype: float64"
      ]
     },
     "execution_count": 29,
     "metadata": {},
     "output_type": "execute_result"
    }
   ],
   "source": [
    "df2['total_guests'].describe()"
   ]
  },
  {
   "cell_type": "code",
   "execution_count": 30,
   "metadata": {},
   "outputs": [],
   "source": [
    "# clean data: adr<0 or total_guests=0\n",
    "df2 = df2[df2['adr'] >= 0]\n",
    "df2 = df2[df2['total_guests'] > 0]"
   ]
  },
  {
   "cell_type": "code",
   "execution_count": 31,
   "metadata": {},
   "outputs": [
    {
     "data": {
      "text/plain": [
       "count    73388.000000\n",
       "mean        26.144558\n",
       "std         24.714045\n",
       "min          0.003421\n",
       "25%         10.333333\n",
       "50%         17.956667\n",
       "75%         32.666667\n",
       "max        510.000000\n",
       "Name: price_guest_per_night, dtype: float64"
      ]
     },
     "execution_count": 31,
     "metadata": {},
     "output_type": "execute_result"
    }
   ],
   "source": [
    "# price_guest_per_night = adr / total_stay_days / total_guests\n",
    "df2['price_guest_per_night'] = df2['adr']/df2['total_stay_days']/df2['total_guests']\n",
    "df2['price_guest_per_night'].describe()"
   ]
  },
  {
   "cell_type": "code",
   "execution_count": 32,
   "metadata": {},
   "outputs": [
    {
     "data": {
      "text/plain": [
       "array([[<matplotlib.axes._subplots.AxesSubplot object at 0x7ff9b2b83e20>]],\n",
       "      dtype=object)"
      ]
     },
     "execution_count": 32,
     "metadata": {},
     "output_type": "execute_result"
    },
    {
     "data": {
      "image/png": "[encoded data removed]",
      "text/plain": [
       "<Figure size 432x288 with 1 Axes>"
      ]
     },
     "metadata": {
      "needs_background": "light"
     },
     "output_type": "display_data"
    }
   ],
   "source": [
    "# count\n",
    "df2.hist('price_guest_per_night')"
   ]
  },
  {
   "cell_type": "code",
   "execution_count": 33,
   "metadata": {},
   "outputs": [
    {
     "data": {
      "text/plain": [
       "<matplotlib.axes._subplots.AxesSubplot at 0x7ff994eb59a0>"
      ]
     },
     "execution_count": 33,
     "metadata": {},
     "output_type": "execute_result"
    },
    {
     "data": {
      "image/png": "[encoded data removed]",
      "text/plain": [
       "<Figure size 432x288 with 1 Axes>"
      ]
     },
     "metadata": {
      "needs_background": "light"
     },
     "output_type": "display_data"
    }
   ],
   "source": [
    "# distribution\n",
    "sns.distplot(df2['price_guest_per_night'])"
   ]
  },
  {
   "cell_type": "markdown",
   "metadata": {},
   "source": [
    "## 3.3 How long does the guest stay in the hotel?"
   ]
  },
  {
   "cell_type": "code",
   "execution_count": 34,
   "metadata": {},
   "outputs": [
    {
     "data": {
      "text/plain": [
       "count    73388.000000\n",
       "mean         3.434008\n",
       "std          2.533484\n",
       "min          1.000000\n",
       "25%          2.000000\n",
       "50%          3.000000\n",
       "75%          4.000000\n",
       "max         69.000000\n",
       "Name: total_stay_days, dtype: float64"
      ]
     },
     "execution_count": 34,
     "metadata": {},
     "output_type": "execute_result"
    }
   ],
   "source": [
    "df2['total_stay_days'].describe()"
   ]
  },
  {
   "cell_type": "code",
   "execution_count": 35,
   "metadata": {
    "scrolled": true
   },
   "outputs": [
    {
     "data": {
      "text/plain": [
       "3     15604\n",
       "1     15280\n",
       "2     15154\n",
       "4     10971\n",
       "7      5666\n",
       "5      5093\n",
       "6      2303\n",
       "10      776\n",
       "8       707\n",
       "14      653\n",
       "9       518\n",
       "11      272\n",
       "12      120\n",
       "13       89\n",
       "15       36\n",
       "21       36\n",
       "28       22\n",
       "16       18\n",
       "17       15\n",
       "25       14\n",
       "22        9\n",
       "19        6\n",
       "18        6\n",
       "35        5\n",
       "42        3\n",
       "23        2\n",
       "56        1\n",
       "69        1\n",
       "45        1\n",
       "38        1\n",
       "29        1\n",
       "34        1\n",
       "30        1\n",
       "24        1\n",
       "20        1\n",
       "60        1\n",
       "Name: total_stay_days, dtype: int64"
      ]
     },
     "execution_count": 35,
     "metadata": {},
     "output_type": "execute_result"
    }
   ],
   "source": [
    "df2['total_stay_days'].value_counts()"
   ]
  },
  {
   "cell_type": "code",
   "execution_count": 38,
   "metadata": {},
   "outputs": [
    {
     "data": {
      "text/plain": [
       "array([[<matplotlib.axes._subplots.AxesSubplot object at 0x7ff9961c4e20>]],\n",
       "      dtype=object)"
      ]
     },
     "execution_count": 38,
     "metadata": {},
     "output_type": "execute_result"
    },
    {
     "data": {
      "image/png": "[encoded data removed]",
      "text/plain": [
       "<Figure size 432x288 with 1 Axes>"
      ]
     },
     "metadata": {
      "needs_background": "light"
     },
     "output_type": "display_data"
    }
   ],
   "source": [
    "# count\n",
    "df2.hist('total_stay_days')"
   ]
  },
  {
   "cell_type": "code",
   "execution_count": 39,
   "metadata": {},
   "outputs": [
    {
     "data": {
      "text/plain": [
       "<matplotlib.axes._subplots.AxesSubplot at 0x7ff996412070>"
      ]
     },
     "execution_count": 39,
     "metadata": {},
     "output_type": "execute_result"
    },
    {
     "data": {
      "image/png": "[encoded data removed]",
      "text/plain": [
       "<Figure size 432x288 with 1 Axes>"
      ]
     },
     "metadata": {
      "needs_background": "light"
     },
     "output_type": "display_data"
    }
   ],
   "source": [
    "sns.boxplot(df2['total_stay_days'],orient = \"v\")"
   ]
  },
  {
   "cell_type": "code",
   "execution_count": null,
   "metadata": {},
   "outputs": [],
   "source": []
  }
 ],
 "metadata": {
  "kernelspec": {
   "display_name": "Python 3",
   "language": "python",
   "name": "python3"
  },
  "language_info": {
   "codemirror_mode": {
    "name": "ipython",
    "version": 3
   },
   "file_extension": ".py",
   "mimetype": "text/x-python",
   "name": "python",
   "nbconvert_exporter": "python",
   "pygments_lexer": "ipython3",
   "version": "3.8.3"
  }
 },
 "nbformat": 4,
 "nbformat_minor": 4
}
